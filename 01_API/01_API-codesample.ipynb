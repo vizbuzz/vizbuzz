{
 "cells": [
  {
   "cell_type": "code",
   "execution_count": 1,
   "metadata": {
    "collapsed": false
   },
   "outputs": [],
   "source": [
    "from urllib2 import urlopen\n",
    "from json import load\n",
    "import pandas as pd\n",
    "from pandas.io.json import json_normalize\n",
    "import itertools"
   ]
  },
  {
   "cell_type": "code",
   "execution_count": 2,
   "metadata": {
    "collapsed": false
   },
   "outputs": [],
   "source": [
    "##once API key is obtained, build url out using required elements. \n",
    "##Example below calls the first 3 stories of the NPR Top Stories category in JSON output format\n",
    "##plug in your unique API key to test out the code:\n",
    "\n",
    "api_key = '[INSERT KEY HERE]'"
   ]
  },
  {
   "cell_type": "code",
   "execution_count": 3,
   "metadata": {
    "collapsed": true
   },
   "outputs": [],
   "source": [
    "url = 'http://api.npr.org/query?apiKey=' + api_key + '&numResults=3&format=json&id=1002'"
   ]
  },
  {
   "cell_type": "code",
   "execution_count": 4,
   "metadata": {
    "collapsed": true
   },
   "outputs": [],
   "source": [
    "##Load data from your URL\n",
    "response = urlopen(url)\n",
    "json_obj = load(response)"
   ]
  },
  {
   "cell_type": "code",
   "execution_count": 5,
   "metadata": {
    "collapsed": true
   },
   "outputs": [],
   "source": [
    "##the next several cells are test code to practice mapping to the information we want in the data frame\n",
    "## Each commented cell is followed by the executable code to test using your API key"
   ]
  },
  {
   "cell_type": "code",
   "execution_count": 6,
   "metadata": {
    "collapsed": false,
    "scrolled": true
   },
   "outputs": [
    {
     "data": {
      "text/plain": [
       "\"\\nfor story in json_obj['list']['story']:\\n\\n    print 'ID: ' + story['id']\\n    \\n    print 'TITLE: ' + story['title']['$text']\\n\\n    print 'DATE: ' + story['storyDate']['$text'] + '\\n'\\n\""
      ]
     },
     "execution_count": 6,
     "metadata": {},
     "output_type": "execute_result"
    }
   ],
   "source": [
    "'''\n",
    "for story in json_obj['list']['story']:\n",
    "\n",
    "    print 'ID: ' + story['id']\n",
    "    \n",
    "    print 'TITLE: ' + story['title']['$text']\n",
    "\n",
    "    print 'DATE: ' + story['storyDate']['$text'] + '\\n'\n",
    "'''"
   ]
  },
  {
   "cell_type": "code",
   "execution_count": null,
   "metadata": {
    "collapsed": true
   },
   "outputs": [],
   "source": [
    "for story in json_obj['list']['story']:\n",
    "    print 'ID:'+ story['id']\n",
    "    print 'TITLE:' + story['title']['$text']\n",
    "    print 'DATE:' + story['storyDate']['text']"
   ]
  },
  {
   "cell_type": "code",
   "execution_count": 7,
   "metadata": {
    "collapsed": false
   },
   "outputs": [
    {
     "data": {
      "text/plain": [
       "\"for story in json_obj['list']['story']:\\n    for parent in story['parent']:\\n        print story['id'], parent['title']['$text']\\n\""
      ]
     },
     "execution_count": 7,
     "metadata": {},
     "output_type": "execute_result"
    }
   ],
   "source": [
    "'''for story in json_obj['list']['story']:\n",
    "    for parent in story['parent']:\n",
    "        print story['id'], parent['title']['$text']\n",
    "'''"
   ]
  },
  {
   "cell_type": "code",
   "execution_count": null,
   "metadata": {
    "collapsed": true
   },
   "outputs": [],
   "source": [
    "for story in json_obj['list']['story']:\n",
    "    for parent in story['parent']:\n",
    "        print story['id'],parent['title']['$text']"
   ]
  },
  {
   "cell_type": "code",
   "execution_count": 8,
   "metadata": {
    "collapsed": false
   },
   "outputs": [
    {
     "data": {
      "text/plain": [
       "\"      \\nfor story in json_obj['list']['story']:\\n    for text in story['text']['paragraph']:\\n        print story['id'], text['$text']\\n\""
      ]
     },
     "execution_count": 8,
     "metadata": {},
     "output_type": "execute_result"
    }
   ],
   "source": [
    "'''for story in json_obj['list']['story']:\n",
    "    print story['id'], story['text']['paragraph']\n",
    "'''\n",
    "'''      \n",
    "for story in json_obj['list']['story']:\n",
    "    for text in story['text']['paragraph']:\n",
    "        print story['id'], text['$text']\n",
    "'''"
   ]
  },
  {
   "cell_type": "code",
   "execution_count": null,
   "metadata": {
    "collapsed": true
   },
   "outputs": [],
   "source": [
    "for story in json_obj['list']['story']:\n",
    "    print story['id'], story['text']['paragraph']\n",
    "    \n",
    "for story in json_obj['list']['story']:\n",
    "    for text in story['text']['paragraph']:\n",
    "        print story['id'], text['$text']"
   ]
  },
  {
   "cell_type": "code",
   "execution_count": 9,
   "metadata": {
    "collapsed": false
   },
   "outputs": [],
   "source": [
    "## Build the data frame by creating a list of dictionaries, then converting the list of dictionaries into a data frame\n",
    "\n",
    "##Prep for First data frame(df): one row per distinct story category\n",
    "\n",
    "dicts_list = []"
   ]
  },
  {
   "cell_type": "code",
   "execution_count": 10,
   "metadata": {
    "collapsed": false
   },
   "outputs": [],
   "source": [
    "for story in json_obj['list']['story']:\n",
    "    for parent in story['parent']:\n",
    "        d = {\n",
    "            'id': story['id'],\n",
    "            'title': story['title']['$text'].encode('ascii'),\n",
    "            'category': parent['title']['$text'].encode('ascii')    \n",
    "        }\n",
    "        dicts_list.append(d)"
   ]
  }
 ],
 "metadata": {
  "kernelspec": {
   "display_name": "Python 2",
   "language": "python",
   "name": "python2"
  },
  "language_info": {
   "codemirror_mode": {
    "name": "ipython",
    "version": 2
   },
   "file_extension": ".py",
   "mimetype": "text/x-python",
   "name": "python",
   "nbconvert_exporter": "python",
   "pygments_lexer": "ipython2",
   "version": "2.7.6"
  }
 },
 "nbformat": 4,
 "nbformat_minor": 0
}
