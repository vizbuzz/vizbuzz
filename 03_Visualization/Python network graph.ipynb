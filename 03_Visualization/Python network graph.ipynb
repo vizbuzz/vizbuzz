{
 "cells": [
  {
   "cell_type": "code",
   "execution_count": 1,
   "metadata": {
    "collapsed": false
   },
   "outputs": [
    {
     "name": "stdout",
     "output_type": "stream",
     "text": [
      "Couldn't import dot_parser, loading of dot files will not be possible.\n"
     ]
    }
   ],
   "source": [
    "import pandas as pd\n",
    "import itertools\n",
    "import networkx as nx\n",
    "import matplotlib.pyplot as plt"
   ]
  },
  {
   "cell_type": "code",
   "execution_count": 2,
   "metadata": {
    "collapsed": true
   },
   "outputs": [],
   "source": [
    "G=nx.Graph()"
   ]
  },
  {
   "cell_type": "code",
   "execution_count": 3,
   "metadata": {
    "collapsed": true
   },
   "outputs": [],
   "source": [
    "links = pd.read_csv(\"links.csv\")"
   ]
  },
  {
   "cell_type": "code",
   "execution_count": 4,
   "metadata": {
    "collapsed": false
   },
   "outputs": [
    {
     "data": {
      "text/html": [
       "<div>\n",
       "<table border=\"1\" class=\"dataframe\">\n",
       "  <thead>\n",
       "    <tr style=\"text-align: right;\">\n",
       "      <th></th>\n",
       "      <th>Unnamed: 0</th>\n",
       "      <th>source</th>\n",
       "      <th>target</th>\n",
       "    </tr>\n",
       "  </thead>\n",
       "  <tbody>\n",
       "    <tr>\n",
       "      <th>0</th>\n",
       "      <td>0</td>\n",
       "      <td>News</td>\n",
       "      <td>Orlando</td>\n",
       "    </tr>\n",
       "    <tr>\n",
       "      <th>1</th>\n",
       "      <td>1</td>\n",
       "      <td>News</td>\n",
       "      <td>America</td>\n",
       "    </tr>\n",
       "    <tr>\n",
       "      <th>2</th>\n",
       "      <td>2</td>\n",
       "      <td>Orlando</td>\n",
       "      <td>America</td>\n",
       "    </tr>\n",
       "    <tr>\n",
       "      <th>3</th>\n",
       "      <td>3</td>\n",
       "      <td>U.S.</td>\n",
       "      <td>Around the Nation</td>\n",
       "    </tr>\n",
       "    <tr>\n",
       "      <th>4</th>\n",
       "      <td>4</td>\n",
       "      <td>U.S.</td>\n",
       "      <td>News</td>\n",
       "    </tr>\n",
       "  </tbody>\n",
       "</table>\n",
       "</div>"
      ],
      "text/plain": [
       "   Unnamed: 0   source             target\n",
       "0           0     News            Orlando\n",
       "1           1     News            America\n",
       "2           2  Orlando            America\n",
       "3           3     U.S.  Around the Nation\n",
       "4           4     U.S.               News"
      ]
     },
     "execution_count": 4,
     "metadata": {},
     "output_type": "execute_result"
    }
   ],
   "source": [
    "links.head()"
   ]
  },
  {
   "cell_type": "code",
   "execution_count": 5,
   "metadata": {
    "collapsed": false
   },
   "outputs": [],
   "source": [
    "for index, row in links.iterrows():\n",
    "    G.add_edge(links.source[index],links.target[index])"
   ]
  },
  {
   "cell_type": "code",
   "execution_count": 6,
   "metadata": {
    "collapsed": false
   },
   "outputs": [
    {
     "name": "stdout",
     "output_type": "stream",
     "text": [
      "['Global Health', 'Fiction', 'Environment', 'Author Interviews', 'Music', 'Middle East', 'International', 'Business', 'Book Reviews', 'World', 'America', 'Medical Treatments', 'Science', 'U.S.', 'Orlando', 'Elections', 'Donald Trump', 'Around the Nation', 'Race', 'News', 'Sports', 'Arts & Life', 'Law', 'Remembrances', 'Health', 'Africa', 'Health Care', 'Games & Humor', 'Books', 'Politics']\n"
     ]
    }
   ],
   "source": [
    "print(list(G.nodes()))"
   ]
  },
  {
   "cell_type": "code",
   "execution_count": 7,
   "metadata": {
    "collapsed": false
   },
   "outputs": [
    {
     "name": "stdout",
     "output_type": "stream",
     "text": [
      "[('Global Health', 'News'), ('Global Health', 'Africa'), ('Global Health', 'Health'), ('Global Health', 'World'), ('Fiction', 'Book Reviews'), ('Fiction', 'Author Interviews'), ('Fiction', 'Books'), ('Fiction', 'Arts & Life'), ('Environment', 'America'), ('Environment', 'World'), ('Environment', 'Business'), ('Environment', 'Science'), ('Environment', 'U.S.'), ('Environment', 'Around the Nation'), ('Environment', 'International'), ('Environment', 'News'), ('Environment', 'Law'), ('Author Interviews', 'Books'), ('Author Interviews', 'Arts & Life'), ('Music', 'Race'), ('Music', 'Science'), ('Music', 'U.S.'), ('Music', 'Orlando'), ('Music', 'Around the Nation'), ('Music', 'Books'), ('Music', 'News'), ('Music', 'Arts & Life'), ('Middle East', 'International'), ('Middle East', 'World'), ('Middle East', 'News'), ('International', 'Politics'), ('International', 'Business'), ('International', 'Science'), ('International', 'U.S.'), ('International', 'Sports'), ('International', 'Race'), ('International', 'News'), ('International', 'World'), ('International', 'America'), ('Business', 'America'), ('Business', 'Science'), ('Business', 'U.S.'), ('Business', 'Health Care'), ('Business', 'Sports'), ('Business', 'Around the Nation'), ('Business', 'Health'), ('Business', 'World'), ('Business', 'News'), ('Business', 'Law'), ('Business', 'Medical Treatments'), ('Book Reviews', 'Books'), ('Book Reviews', 'Arts & Life'), ('World', 'Politics'), ('World', 'Science'), ('World', 'U.S.'), ('World', 'Race'), ('World', 'Health'), ('World', 'News'), ('World', 'America'), ('America', 'Remembrances'), ('America', 'Science'), ('America', 'U.S.'), ('America', 'Orlando'), ('America', 'Elections'), ('America', 'Sports'), ('America', 'Donald Trump'), ('America', 'Around the Nation'), ('America', 'Politics'), ('America', 'News'), ('America', 'Law'), ('Medical Treatments', 'U.S.'), ('Medical Treatments', 'Health Care'), ('Medical Treatments', 'Around the Nation'), ('Medical Treatments', 'Health'), ('Medical Treatments', 'News'), ('Science', 'Law'), ('Science', 'Race'), ('Science', 'U.S.'), ('Science', 'Around the Nation'), ('Science', 'Books'), ('Science', 'News'), ('Science', 'Arts & Life'), ('U.S.', 'Sports'), ('U.S.', 'Health'), ('U.S.', 'Law'), ('U.S.', 'Orlando'), ('U.S.', 'Elections'), ('U.S.', 'Donald Trump'), ('U.S.', 'Health Care'), ('U.S.', 'Race'), ('U.S.', 'Politics'), ('U.S.', 'Arts & Life'), ('U.S.', 'News'), ('U.S.', 'Remembrances'), ('U.S.', 'Around the Nation'), ('U.S.', 'Books'), ('Orlando', 'News'), ('Orlando', 'Around the Nation'), ('Elections', 'Donald Trump'), ('Elections', 'Politics'), ('Elections', 'News'), ('Donald Trump', 'Politics'), ('Donald Trump', 'News'), ('Around the Nation', 'Law'), ('Around the Nation', 'Health'), ('Around the Nation', 'Race'), ('Around the Nation', 'Sports'), ('Around the Nation', 'Health Care'), ('Around the Nation', 'Books'), ('Around the Nation', 'Politics'), ('Around the Nation', 'News'), ('Around the Nation', 'Arts & Life'), ('Race', 'Politics'), ('Race', 'Remembrances'), ('Race', 'Sports'), ('Race', 'Books'), ('Race', 'News'), ('Race', 'Arts & Life'), ('News', 'Sports'), ('News', 'Health'), ('News', 'Politics'), ('News', 'Arts & Life'), ('News', 'Law'), ('News', 'Remembrances'), ('News', 'Africa'), ('News', 'Health Care'), ('News', 'Books'), ('Sports', 'Remembrances'), ('Arts & Life', 'Games & Humor'), ('Arts & Life', 'Books'), ('Health', 'Health Care')]\n"
     ]
    }
   ],
   "source": [
    "print(list(G.edges()))"
   ]
  },
  {
   "cell_type": "code",
   "execution_count": 16,
   "metadata": {
    "collapsed": true
   },
   "outputs": [],
   "source": [
    "## Plot 1:  Basic network graph\n",
    "nx.draw(G)\n",
    "plt.show()"
   ]
  },
  {
   "cell_type": "code",
   "execution_count": 17,
   "metadata": {
    "collapsed": true
   },
   "outputs": [],
   "source": [
    "## Plot 2:  Circular graph with labels\n",
    "nx.draw_circular(G)\n",
    "plt.show()"
   ]
  },
  {
   "cell_type": "code",
   "execution_count": 18,
   "metadata": {
    "collapsed": true
   },
   "outputs": [],
   "source": [
    "## Plot 3:  Network graph with sample formatting and labels\n",
    "\n",
    "pos=nx.spring_layout(G, k=.2)\n",
    "nx.draw_networkx_nodes(G,pos,node_size=500, node_color=\"white\")\n",
    "nx.draw_networkx_edges(G,pos,\n",
    "        width=1,alpha=0.5,edge_color='black')\n",
    "nx.draw_networkx_labels(G,pos,font_size=10,font_family='sans-serif')\n",
    "plt.axis('off')\n",
    "plt.show()\n"
   ]
  },
  {
   "cell_type": "code",
   "execution_count": null,
   "metadata": {
    "collapsed": true
   },
   "outputs": [],
   "source": []
  }
 ],
 "metadata": {
  "kernelspec": {
   "display_name": "Python 2",
   "language": "python",
   "name": "python2"
  },
  "language_info": {
   "codemirror_mode": {
    "name": "ipython",
    "version": 2
   },
   "file_extension": ".py",
   "mimetype": "text/x-python",
   "name": "python",
   "nbconvert_exporter": "python",
   "pygments_lexer": "ipython2",
   "version": "2.7.11"
  }
 },
 "nbformat": 4,
 "nbformat_minor": 0
}
