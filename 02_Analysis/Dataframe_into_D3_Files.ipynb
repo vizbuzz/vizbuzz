{
 "cells": [
  {
   "cell_type": "code",
   "execution_count": 6,
   "metadata": {
    "collapsed": false
   },
   "outputs": [],
   "source": [
    "from json import loads\n",
    "import pandas as pd\n",
    "import itertools"
   ]
  },
  {
   "cell_type": "code",
   "execution_count": 7,
   "metadata": {
    "collapsed": false
   },
   "outputs": [],
   "source": [
    "## Load sample json data from NPR's API\n",
    "json_obj = loads(open(\"npr_api_sample.json\").read())"
   ]
  },
  {
   "cell_type": "code",
   "execution_count": 8,
   "metadata": {
    "collapsed": false
   },
   "outputs": [],
   "source": [
    "## Build the data frame by creating a list of dictionaries, then converting the list of dictionaries into a data frame\n",
    "\n",
    "##First data frame: one row per distinct story category\n",
    "\n",
    "dicts_list = []"
   ]
  },
  {
   "cell_type": "code",
   "execution_count": 9,
   "metadata": {
    "collapsed": false
   },
   "outputs": [],
   "source": [
    "for story in json_obj['list']['story']:\n",
    "    for parent in story['parent']:\n",
    "        d = {\n",
    "            'id': story['id'],\n",
    "            'title': story['title']['$text'],\n",
    "            'category': parent['title']['$text'] \n",
    "        }\n",
    "        dicts_list.append(d)"
   ]
  },
  {
   "cell_type": "code",
   "execution_count": 10,
   "metadata": {
    "collapsed": false
   },
   "outputs": [],
   "source": [
    "df = pd.DataFrame(dicts_list, columns=('id', 'title', 'category'))"
   ]
  },
  {
   "cell_type": "code",
   "execution_count": 11,
   "metadata": {
    "collapsed": false
   },
   "outputs": [
    {
     "data": {
      "text/html": [
       "<div>\n",
       "<table border=\"1\" class=\"dataframe\">\n",
       "  <thead>\n",
       "    <tr style=\"text-align: right;\">\n",
       "      <th></th>\n",
       "      <th>id</th>\n",
       "      <th>title</th>\n",
       "      <th>category</th>\n",
       "    </tr>\n",
       "  </thead>\n",
       "  <tbody>\n",
       "    <tr>\n",
       "      <th>0</th>\n",
       "      <td>482689024</td>\n",
       "      <td>Colorado Mother Fights Off Mountain Lion To Sa...</td>\n",
       "      <td>News</td>\n",
       "    </tr>\n",
       "    <tr>\n",
       "      <th>1</th>\n",
       "      <td>482689024</td>\n",
       "      <td>Colorado Mother Fights Off Mountain Lion To Sa...</td>\n",
       "      <td>mountain lion</td>\n",
       "    </tr>\n",
       "    <tr>\n",
       "      <th>2</th>\n",
       "      <td>482689024</td>\n",
       "      <td>Colorado Mother Fights Off Mountain Lion To Sa...</td>\n",
       "      <td>Must Reads</td>\n",
       "    </tr>\n",
       "    <tr>\n",
       "      <th>3</th>\n",
       "      <td>482689024</td>\n",
       "      <td>Colorado Mother Fights Off Mountain Lion To Sa...</td>\n",
       "      <td>Colorado</td>\n",
       "    </tr>\n",
       "    <tr>\n",
       "      <th>4</th>\n",
       "      <td>482689024</td>\n",
       "      <td>Colorado Mother Fights Off Mountain Lion To Sa...</td>\n",
       "      <td>The Two-Way</td>\n",
       "    </tr>\n",
       "  </tbody>\n",
       "</table>\n",
       "</div>"
      ],
      "text/plain": [
       "          id                                              title       category\n",
       "0  482689024  Colorado Mother Fights Off Mountain Lion To Sa...           News\n",
       "1  482689024  Colorado Mother Fights Off Mountain Lion To Sa...  mountain lion\n",
       "2  482689024  Colorado Mother Fights Off Mountain Lion To Sa...     Must Reads\n",
       "3  482689024  Colorado Mother Fights Off Mountain Lion To Sa...       Colorado\n",
       "4  482689024  Colorado Mother Fights Off Mountain Lion To Sa...    The Two-Way"
      ]
     },
     "execution_count": 11,
     "metadata": {},
     "output_type": "execute_result"
    }
   ],
   "source": [
    "df.head(5)"
   ]
  },
  {
   "cell_type": "code",
   "execution_count": 14,
   "metadata": {
    "collapsed": false
   },
   "outputs": [],
   "source": [
    "##Second data frame: one row per story, with one column containing a list of all the story's categories\n",
    "\n",
    "dicts_reshape = []"
   ]
  },
  {
   "cell_type": "code",
   "execution_count": 16,
   "metadata": {
    "collapsed": false
   },
   "outputs": [],
   "source": [
    "for story in json_obj['list']['story']:\n",
    "    categories_list = []\n",
    "    d = {\n",
    "        'id': story['id'],\n",
    "        'title': story['title']['$text']\n",
    "        }\n",
    "    for parent in story['parent']:\n",
    "        category = parent['title']['$text']\n",
    "        categories_list.append(category)   \n",
    "        d['category'] = categories_list\n",
    "        d['top_category'] = []\n",
    "    dicts_reshape.append(d)"
   ]
  },
  {
   "cell_type": "code",
   "execution_count": 17,
   "metadata": {
    "collapsed": false
   },
   "outputs": [],
   "source": [
    "df_reshape = pd.DataFrame(dicts_reshape, columns=('id', 'title', 'category', 'top_category'))"
   ]
  },
  {
   "cell_type": "code",
   "execution_count": 18,
   "metadata": {
    "collapsed": false
   },
   "outputs": [
    {
     "data": {
      "text/html": [
       "<div>\n",
       "<table border=\"1\" class=\"dataframe\">\n",
       "  <thead>\n",
       "    <tr style=\"text-align: right;\">\n",
       "      <th></th>\n",
       "      <th>id</th>\n",
       "      <th>title</th>\n",
       "      <th>category</th>\n",
       "      <th>top_category</th>\n",
       "    </tr>\n",
       "  </thead>\n",
       "  <tbody>\n",
       "    <tr>\n",
       "      <th>0</th>\n",
       "      <td>482689024</td>\n",
       "      <td>Colorado Mother Fights Off Mountain Lion To Sa...</td>\n",
       "      <td>[News, mountain lion, Must Reads, Colorado, Th...</td>\n",
       "      <td>[]</td>\n",
       "    </tr>\n",
       "    <tr>\n",
       "      <th>1</th>\n",
       "      <td>482689024</td>\n",
       "      <td>Colorado Mother Fights Off Mountain Lion To Sa...</td>\n",
       "      <td>[News, mountain lion, Must Reads, Colorado, Th...</td>\n",
       "      <td>[]</td>\n",
       "    </tr>\n",
       "    <tr>\n",
       "      <th>2</th>\n",
       "      <td>482678701</td>\n",
       "      <td>Former Vanderbilt University Football Player F...</td>\n",
       "      <td>[News, News, Latest From NPR News, rape, Ameri...</td>\n",
       "      <td>[]</td>\n",
       "    </tr>\n",
       "    <tr>\n",
       "      <th>3</th>\n",
       "      <td>482669249</td>\n",
       "      <td>PHOTOS: Thousands Protest Against U.S. Militar...</td>\n",
       "      <td>[World, marine corps, Latest From NPR News, Ok...</td>\n",
       "      <td>[]</td>\n",
       "    </tr>\n",
       "    <tr>\n",
       "      <th>4</th>\n",
       "      <td>482509752</td>\n",
       "      <td>Food To Celebrate Freedom: Tea Cakes For Junet...</td>\n",
       "      <td>[Food, tea cakes, Etha Robinson, NPR Stories F...</td>\n",
       "      <td>[]</td>\n",
       "    </tr>\n",
       "  </tbody>\n",
       "</table>\n",
       "</div>"
      ],
      "text/plain": [
       "          id                                              title  \\\n",
       "0  482689024  Colorado Mother Fights Off Mountain Lion To Sa...   \n",
       "1  482689024  Colorado Mother Fights Off Mountain Lion To Sa...   \n",
       "2  482678701  Former Vanderbilt University Football Player F...   \n",
       "3  482669249  PHOTOS: Thousands Protest Against U.S. Militar...   \n",
       "4  482509752  Food To Celebrate Freedom: Tea Cakes For Junet...   \n",
       "\n",
       "                                            category top_category  \n",
       "0  [News, mountain lion, Must Reads, Colorado, Th...           []  \n",
       "1  [News, mountain lion, Must Reads, Colorado, Th...           []  \n",
       "2  [News, News, Latest From NPR News, rape, Ameri...           []  \n",
       "3  [World, marine corps, Latest From NPR News, Ok...           []  \n",
       "4  [Food, tea cakes, Etha Robinson, NPR Stories F...           []  "
      ]
     },
     "execution_count": 18,
     "metadata": {},
     "output_type": "execute_result"
    }
   ],
   "source": [
    "df_reshape.head()"
   ]
  },
  {
   "cell_type": "code",
   "execution_count": 19,
   "metadata": {
    "collapsed": false
   },
   "outputs": [
    {
     "data": {
      "text/plain": [
       "['News',\n",
       " 'mountain lion',\n",
       " 'Must Reads',\n",
       " 'Colorado',\n",
       " 'The Two-Way',\n",
       " 'Animals',\n",
       " 'Around the Nation',\n",
       " 'U.S.',\n",
       " 'Home Page Top Stories',\n",
       " 'News']"
      ]
     },
     "execution_count": 19,
     "metadata": {},
     "output_type": "execute_result"
    }
   ],
   "source": [
    "df_reshape['category'][0]"
   ]
  },
  {
   "cell_type": "code",
   "execution_count": 20,
   "metadata": {
    "collapsed": false
   },
   "outputs": [],
   "source": [
    "##determine most popular categories\n",
    "all_categories = df['category'].tolist()"
   ]
  },
  {
   "cell_type": "code",
   "execution_count": 21,
   "metadata": {
    "collapsed": false
   },
   "outputs": [],
   "source": [
    "stop_categories = ['#MemeOfTheWeek','All Things Considered','All Things Considered for June 10, 2016',\n",
    "                   'All Things Considered for June 11, 2016','Classical Notes Newsletter','Code Switch',\n",
    "                   'Goats and Soda','Home Page Top Stories','Latest From NPR News','MPX Break','MPX Invest',\n",
    "                   'MPX Music interviews','MPX Open Door','MPX Parking Lot','MPX election stories ',\n",
    "                   'Must Reads','Music Makers','NPR Selects','NPR Stories For Apple News',\n",
    "                   \"NPR.org's Most Popular Stories\",'Policy-ish','Shots - Health News','Story of the Day',\n",
    "                   'The Two-Way','Two-Way Featured Post Two',\"Wait Wait...Don't Tell Me!\",\n",
    "                   \"Wait Wait...Don't Tell Me! For June 11, 2016\",'Weekend Edition Saturday',\n",
    "                   'Weekend Edition Saturday for June 11, 2016','Weekend Edition Sunday',\n",
    "                   'Weekend Edition Sunday for June 12, 2016','World Story of the Day','Your Health',\n",
    "                   'nprreads','sunday puzzle','A No. 1']"
   ]
  },
  {
   "cell_type": "code",
   "execution_count": 22,
   "metadata": {
    "collapsed": true
   },
   "outputs": [],
   "source": [
    "all_categories_filtered = [x for x in all_categories if x not in stop_categories]"
   ]
  },
  {
   "cell_type": "code",
   "execution_count": 23,
   "metadata": {
    "collapsed": false
   },
   "outputs": [
    {
     "data": {
      "text/plain": [
       "609"
      ]
     },
     "execution_count": 23,
     "metadata": {},
     "output_type": "execute_result"
    }
   ],
   "source": [
    "len(all_categories)"
   ]
  },
  {
   "cell_type": "code",
   "execution_count": 24,
   "metadata": {
    "collapsed": false
   },
   "outputs": [
    {
     "data": {
      "text/plain": [
       "468"
      ]
     },
     "execution_count": 24,
     "metadata": {},
     "output_type": "execute_result"
    }
   ],
   "source": [
    "len(all_categories_filtered)"
   ]
  },
  {
   "cell_type": "code",
   "execution_count": 25,
   "metadata": {
    "collapsed": true
   },
   "outputs": [],
   "source": [
    "category_counter = {}  "
   ]
  },
  {
   "cell_type": "code",
   "execution_count": 26,
   "metadata": {
    "collapsed": true
   },
   "outputs": [],
   "source": [
    "for category in all_categories_filtered:\n",
    "    if category in category_counter:\n",
    "        category_counter[category] += 1\n",
    "    else:\n",
    "        category_counter[category] = 1"
   ]
  },
  {
   "cell_type": "code",
   "execution_count": 27,
   "metadata": {
    "collapsed": true
   },
   "outputs": [],
   "source": [
    "popular_categories = sorted(category_counter, key = category_counter.get, reverse = True)"
   ]
  },
  {
   "cell_type": "code",
   "execution_count": 28,
   "metadata": {
    "collapsed": true
   },
   "outputs": [],
   "source": [
    "top_5 = popular_categories[:5]"
   ]
  },
  {
   "cell_type": "code",
   "execution_count": 29,
   "metadata": {
    "collapsed": false
   },
   "outputs": [
    {
     "data": {
      "text/plain": [
       "[u'News', u'U.S.', u'World', u'Around the Nation', u'Health']"
      ]
     },
     "execution_count": 29,
     "metadata": {},
     "output_type": "execute_result"
    }
   ],
   "source": [
    "top_5"
   ]
  },
  {
   "cell_type": "code",
   "execution_count": 30,
   "metadata": {
    "collapsed": true
   },
   "outputs": [],
   "source": [
    "top_30 = popular_categories[:30]"
   ]
  },
  {
   "cell_type": "code",
   "execution_count": 31,
   "metadata": {
    "collapsed": false,
    "scrolled": true
   },
   "outputs": [
    {
     "data": {
      "text/plain": [
       "[u'News',\n",
       " u'U.S.',\n",
       " u'World',\n",
       " u'Around the Nation',\n",
       " u'Health',\n",
       " u'Politics',\n",
       " u'Arts & Life',\n",
       " u'Law',\n",
       " u'Global Health',\n",
       " u'Opinion',\n",
       " u'Commentary',\n",
       " u'Food',\n",
       " u'Weekend Edition Sunday for June 19, 2016',\n",
       " u'Race',\n",
       " u'Elections',\n",
       " u'Music',\n",
       " u'Books',\n",
       " u'Games & Humor',\n",
       " u'Book Reviews',\n",
       " u'Sports',\n",
       " u'International',\n",
       " u'Donald Trump',\n",
       " u'Asia',\n",
       " u'Weekend Edition Saturday for June 18, 2016',\n",
       " u'History',\n",
       " u\"Children's Health\",\n",
       " u'Music Interviews',\n",
       " u'Republicans',\n",
       " u'Latin America',\n",
       " u'Education']"
      ]
     },
     "execution_count": 31,
     "metadata": {},
     "output_type": "execute_result"
    }
   ],
   "source": [
    "top_30"
   ]
  },
  {
   "cell_type": "code",
   "execution_count": 32,
   "metadata": {
    "collapsed": true
   },
   "outputs": [],
   "source": [
    "##filter category lists to retain only top categories"
   ]
  },
  {
   "cell_type": "code",
   "execution_count": 33,
   "metadata": {
    "collapsed": false,
    "scrolled": true
   },
   "outputs": [],
   "source": [
    "for index, row in df_reshape.iterrows():\n",
    "    compressed_category = [x for x in row['category'] if x in top_30]\n",
    "    df_reshape['top_category'][index] = compressed_category"
   ]
  },
  {
   "cell_type": "code",
   "execution_count": 34,
   "metadata": {
    "collapsed": false
   },
   "outputs": [
    {
     "data": {
      "text/html": [
       "<div>\n",
       "<table border=\"1\" class=\"dataframe\">\n",
       "  <thead>\n",
       "    <tr style=\"text-align: right;\">\n",
       "      <th></th>\n",
       "      <th>id</th>\n",
       "      <th>title</th>\n",
       "      <th>category</th>\n",
       "      <th>top_category</th>\n",
       "    </tr>\n",
       "  </thead>\n",
       "  <tbody>\n",
       "    <tr>\n",
       "      <th>0</th>\n",
       "      <td>482689024</td>\n",
       "      <td>Colorado Mother Fights Off Mountain Lion To Sa...</td>\n",
       "      <td>[News, mountain lion, Must Reads, Colorado, Th...</td>\n",
       "      <td>[News, Around the Nation, U.S., News]</td>\n",
       "    </tr>\n",
       "    <tr>\n",
       "      <th>1</th>\n",
       "      <td>482689024</td>\n",
       "      <td>Colorado Mother Fights Off Mountain Lion To Sa...</td>\n",
       "      <td>[News, mountain lion, Must Reads, Colorado, Th...</td>\n",
       "      <td>[News, Around the Nation, U.S., News]</td>\n",
       "    </tr>\n",
       "    <tr>\n",
       "      <th>2</th>\n",
       "      <td>482678701</td>\n",
       "      <td>Former Vanderbilt University Football Player F...</td>\n",
       "      <td>[News, News, Latest From NPR News, rape, Ameri...</td>\n",
       "      <td>[News, News, Around the Nation, Law, U.S.]</td>\n",
       "    </tr>\n",
       "    <tr>\n",
       "      <th>3</th>\n",
       "      <td>482669249</td>\n",
       "      <td>PHOTOS: Thousands Protest Against U.S. Militar...</td>\n",
       "      <td>[World, marine corps, Latest From NPR News, Ok...</td>\n",
       "      <td>[World, U.S., Asia, World, U.S., News]</td>\n",
       "    </tr>\n",
       "    <tr>\n",
       "      <th>4</th>\n",
       "      <td>482509752</td>\n",
       "      <td>Food To Celebrate Freedom: Tea Cakes For Junet...</td>\n",
       "      <td>[Food, tea cakes, Etha Robinson, NPR Stories F...</td>\n",
       "      <td>[Food, Food, History, Around the Nation, Food,...</td>\n",
       "    </tr>\n",
       "  </tbody>\n",
       "</table>\n",
       "</div>"
      ],
      "text/plain": [
       "          id                                              title  \\\n",
       "0  482689024  Colorado Mother Fights Off Mountain Lion To Sa...   \n",
       "1  482689024  Colorado Mother Fights Off Mountain Lion To Sa...   \n",
       "2  482678701  Former Vanderbilt University Football Player F...   \n",
       "3  482669249  PHOTOS: Thousands Protest Against U.S. Militar...   \n",
       "4  482509752  Food To Celebrate Freedom: Tea Cakes For Junet...   \n",
       "\n",
       "                                            category  \\\n",
       "0  [News, mountain lion, Must Reads, Colorado, Th...   \n",
       "1  [News, mountain lion, Must Reads, Colorado, Th...   \n",
       "2  [News, News, Latest From NPR News, rape, Ameri...   \n",
       "3  [World, marine corps, Latest From NPR News, Ok...   \n",
       "4  [Food, tea cakes, Etha Robinson, NPR Stories F...   \n",
       "\n",
       "                                        top_category  \n",
       "0              [News, Around the Nation, U.S., News]  \n",
       "1              [News, Around the Nation, U.S., News]  \n",
       "2         [News, News, Around the Nation, Law, U.S.]  \n",
       "3             [World, U.S., Asia, World, U.S., News]  \n",
       "4  [Food, Food, History, Around the Nation, Food,...  "
      ]
     },
     "execution_count": 34,
     "metadata": {},
     "output_type": "execute_result"
    }
   ],
   "source": [
    "df_reshape.head()"
   ]
  },
  {
   "cell_type": "code",
   "execution_count": 35,
   "metadata": {
    "collapsed": true
   },
   "outputs": [],
   "source": [
    "##d3 export:  create a list of pairs of relationships to convert to json\n",
    "\n",
    "pairs_d3 = []"
   ]
  },
  {
   "cell_type": "code",
   "execution_count": 36,
   "metadata": {
    "collapsed": false
   },
   "outputs": [],
   "source": [
    "for category_list in df_reshape['top_category']:\n",
    "    for pair in itertools.combinations(category_list, 2):\n",
    "        if pair not in pairs_d3 and pair[::-1] not in pairs_d3 and pair[0] <> pair[1]:\n",
    "            pairs_d3.append(pair)"
   ]
  },
  {
   "cell_type": "code",
   "execution_count": 37,
   "metadata": {
    "collapsed": false
   },
   "outputs": [],
   "source": [
    "df_d3 = pd.DataFrame(pairs_d3, columns=('source', 'target'))"
   ]
  },
  {
   "cell_type": "code",
   "execution_count": 38,
   "metadata": {
    "collapsed": false
   },
   "outputs": [
    {
     "data": {
      "text/html": [
       "<div>\n",
       "<table border=\"1\" class=\"dataframe\">\n",
       "  <thead>\n",
       "    <tr style=\"text-align: right;\">\n",
       "      <th></th>\n",
       "      <th>source</th>\n",
       "      <th>target</th>\n",
       "    </tr>\n",
       "  </thead>\n",
       "  <tbody>\n",
       "    <tr>\n",
       "      <th>0</th>\n",
       "      <td>News</td>\n",
       "      <td>Around the Nation</td>\n",
       "    </tr>\n",
       "    <tr>\n",
       "      <th>1</th>\n",
       "      <td>News</td>\n",
       "      <td>U.S.</td>\n",
       "    </tr>\n",
       "    <tr>\n",
       "      <th>2</th>\n",
       "      <td>Around the Nation</td>\n",
       "      <td>U.S.</td>\n",
       "    </tr>\n",
       "    <tr>\n",
       "      <th>3</th>\n",
       "      <td>News</td>\n",
       "      <td>Law</td>\n",
       "    </tr>\n",
       "    <tr>\n",
       "      <th>4</th>\n",
       "      <td>Around the Nation</td>\n",
       "      <td>Law</td>\n",
       "    </tr>\n",
       "    <tr>\n",
       "      <th>5</th>\n",
       "      <td>Law</td>\n",
       "      <td>U.S.</td>\n",
       "    </tr>\n",
       "    <tr>\n",
       "      <th>6</th>\n",
       "      <td>World</td>\n",
       "      <td>U.S.</td>\n",
       "    </tr>\n",
       "    <tr>\n",
       "      <th>7</th>\n",
       "      <td>World</td>\n",
       "      <td>Asia</td>\n",
       "    </tr>\n",
       "    <tr>\n",
       "      <th>8</th>\n",
       "      <td>World</td>\n",
       "      <td>News</td>\n",
       "    </tr>\n",
       "    <tr>\n",
       "      <th>9</th>\n",
       "      <td>U.S.</td>\n",
       "      <td>Asia</td>\n",
       "    </tr>\n",
       "    <tr>\n",
       "      <th>10</th>\n",
       "      <td>Asia</td>\n",
       "      <td>News</td>\n",
       "    </tr>\n",
       "    <tr>\n",
       "      <th>11</th>\n",
       "      <td>Food</td>\n",
       "      <td>History</td>\n",
       "    </tr>\n",
       "    <tr>\n",
       "      <th>12</th>\n",
       "      <td>Food</td>\n",
       "      <td>Around the Nation</td>\n",
       "    </tr>\n",
       "    <tr>\n",
       "      <th>13</th>\n",
       "      <td>Food</td>\n",
       "      <td>Race</td>\n",
       "    </tr>\n",
       "    <tr>\n",
       "      <th>14</th>\n",
       "      <td>Food</td>\n",
       "      <td>U.S.</td>\n",
       "    </tr>\n",
       "    <tr>\n",
       "      <th>15</th>\n",
       "      <td>Food</td>\n",
       "      <td>News</td>\n",
       "    </tr>\n",
       "    <tr>\n",
       "      <th>16</th>\n",
       "      <td>History</td>\n",
       "      <td>Around the Nation</td>\n",
       "    </tr>\n",
       "    <tr>\n",
       "      <th>17</th>\n",
       "      <td>History</td>\n",
       "      <td>Race</td>\n",
       "    </tr>\n",
       "    <tr>\n",
       "      <th>18</th>\n",
       "      <td>History</td>\n",
       "      <td>U.S.</td>\n",
       "    </tr>\n",
       "    <tr>\n",
       "      <th>19</th>\n",
       "      <td>History</td>\n",
       "      <td>News</td>\n",
       "    </tr>\n",
       "    <tr>\n",
       "      <th>20</th>\n",
       "      <td>Around the Nation</td>\n",
       "      <td>Race</td>\n",
       "    </tr>\n",
       "    <tr>\n",
       "      <th>21</th>\n",
       "      <td>Race</td>\n",
       "      <td>U.S.</td>\n",
       "    </tr>\n",
       "    <tr>\n",
       "      <th>22</th>\n",
       "      <td>Race</td>\n",
       "      <td>News</td>\n",
       "    </tr>\n",
       "    <tr>\n",
       "      <th>23</th>\n",
       "      <td>Games &amp; Humor</td>\n",
       "      <td>Weekend Edition Sunday for June 19, 2016</td>\n",
       "    </tr>\n",
       "    <tr>\n",
       "      <th>24</th>\n",
       "      <td>World</td>\n",
       "      <td>Weekend Edition Sunday for June 19, 2016</td>\n",
       "    </tr>\n",
       "    <tr>\n",
       "      <th>25</th>\n",
       "      <td>Weekend Edition Sunday for June 19, 2016</td>\n",
       "      <td>Asia</td>\n",
       "    </tr>\n",
       "    <tr>\n",
       "      <th>26</th>\n",
       "      <td>Books</td>\n",
       "      <td>Weekend Edition Sunday for June 19, 2016</td>\n",
       "    </tr>\n",
       "    <tr>\n",
       "      <th>27</th>\n",
       "      <td>Books</td>\n",
       "      <td>Arts &amp; Life</td>\n",
       "    </tr>\n",
       "    <tr>\n",
       "      <th>28</th>\n",
       "      <td>Weekend Edition Sunday for June 19, 2016</td>\n",
       "      <td>Arts &amp; Life</td>\n",
       "    </tr>\n",
       "    <tr>\n",
       "      <th>29</th>\n",
       "      <td>Music</td>\n",
       "      <td>Weekend Edition Sunday for June 19, 2016</td>\n",
       "    </tr>\n",
       "    <tr>\n",
       "      <th>...</th>\n",
       "      <td>...</td>\n",
       "      <td>...</td>\n",
       "    </tr>\n",
       "    <tr>\n",
       "      <th>107</th>\n",
       "      <td>Education</td>\n",
       "      <td>News</td>\n",
       "    </tr>\n",
       "    <tr>\n",
       "      <th>108</th>\n",
       "      <td>Commentary</td>\n",
       "      <td>Food</td>\n",
       "    </tr>\n",
       "    <tr>\n",
       "      <th>109</th>\n",
       "      <td>Commentary</td>\n",
       "      <td>Games &amp; Humor</td>\n",
       "    </tr>\n",
       "    <tr>\n",
       "      <th>110</th>\n",
       "      <td>Commentary</td>\n",
       "      <td>Arts &amp; Life</td>\n",
       "    </tr>\n",
       "    <tr>\n",
       "      <th>111</th>\n",
       "      <td>Opinion</td>\n",
       "      <td>Food</td>\n",
       "    </tr>\n",
       "    <tr>\n",
       "      <th>112</th>\n",
       "      <td>Opinion</td>\n",
       "      <td>Games &amp; Humor</td>\n",
       "    </tr>\n",
       "    <tr>\n",
       "      <th>113</th>\n",
       "      <td>Opinion</td>\n",
       "      <td>Arts &amp; Life</td>\n",
       "    </tr>\n",
       "    <tr>\n",
       "      <th>114</th>\n",
       "      <td>Food</td>\n",
       "      <td>Games &amp; Humor</td>\n",
       "    </tr>\n",
       "    <tr>\n",
       "      <th>115</th>\n",
       "      <td>Food</td>\n",
       "      <td>Arts &amp; Life</td>\n",
       "    </tr>\n",
       "    <tr>\n",
       "      <th>116</th>\n",
       "      <td>Games &amp; Humor</td>\n",
       "      <td>News</td>\n",
       "    </tr>\n",
       "    <tr>\n",
       "      <th>117</th>\n",
       "      <td>Arts &amp; Life</td>\n",
       "      <td>News</td>\n",
       "    </tr>\n",
       "    <tr>\n",
       "      <th>118</th>\n",
       "      <td>Weekend Edition Saturday for June 18, 2016</td>\n",
       "      <td>History</td>\n",
       "    </tr>\n",
       "    <tr>\n",
       "      <th>119</th>\n",
       "      <td>Weekend Edition Saturday for June 18, 2016</td>\n",
       "      <td>Books</td>\n",
       "    </tr>\n",
       "    <tr>\n",
       "      <th>120</th>\n",
       "      <td>History</td>\n",
       "      <td>Books</td>\n",
       "    </tr>\n",
       "    <tr>\n",
       "      <th>121</th>\n",
       "      <td>Global Health</td>\n",
       "      <td>World</td>\n",
       "    </tr>\n",
       "    <tr>\n",
       "      <th>122</th>\n",
       "      <td>Politics</td>\n",
       "      <td>Education</td>\n",
       "    </tr>\n",
       "    <tr>\n",
       "      <th>123</th>\n",
       "      <td>Elections</td>\n",
       "      <td>Education</td>\n",
       "    </tr>\n",
       "    <tr>\n",
       "      <th>124</th>\n",
       "      <td>Donald Trump</td>\n",
       "      <td>Education</td>\n",
       "    </tr>\n",
       "    <tr>\n",
       "      <th>125</th>\n",
       "      <td>Republicans</td>\n",
       "      <td>Education</td>\n",
       "    </tr>\n",
       "    <tr>\n",
       "      <th>126</th>\n",
       "      <td>Health</td>\n",
       "      <td>Food</td>\n",
       "    </tr>\n",
       "    <tr>\n",
       "      <th>127</th>\n",
       "      <td>Politics</td>\n",
       "      <td>Law</td>\n",
       "    </tr>\n",
       "    <tr>\n",
       "      <th>128</th>\n",
       "      <td>Republicans</td>\n",
       "      <td>Law</td>\n",
       "    </tr>\n",
       "    <tr>\n",
       "      <th>129</th>\n",
       "      <td>World</td>\n",
       "      <td>Opinion</td>\n",
       "    </tr>\n",
       "    <tr>\n",
       "      <th>130</th>\n",
       "      <td>World</td>\n",
       "      <td>Commentary</td>\n",
       "    </tr>\n",
       "    <tr>\n",
       "      <th>131</th>\n",
       "      <td>Law</td>\n",
       "      <td>International</td>\n",
       "    </tr>\n",
       "    <tr>\n",
       "      <th>132</th>\n",
       "      <td>Law</td>\n",
       "      <td>History</td>\n",
       "    </tr>\n",
       "    <tr>\n",
       "      <th>133</th>\n",
       "      <td>International</td>\n",
       "      <td>History</td>\n",
       "    </tr>\n",
       "    <tr>\n",
       "      <th>134</th>\n",
       "      <td>History</td>\n",
       "      <td>World</td>\n",
       "    </tr>\n",
       "    <tr>\n",
       "      <th>135</th>\n",
       "      <td>Around the Nation</td>\n",
       "      <td>Arts &amp; Life</td>\n",
       "    </tr>\n",
       "    <tr>\n",
       "      <th>136</th>\n",
       "      <td>Arts &amp; Life</td>\n",
       "      <td>U.S.</td>\n",
       "    </tr>\n",
       "  </tbody>\n",
       "</table>\n",
       "<p>137 rows × 2 columns</p>\n",
       "</div>"
      ],
      "text/plain": [
       "                                         source  \\\n",
       "0                                          News   \n",
       "1                                          News   \n",
       "2                             Around the Nation   \n",
       "3                                          News   \n",
       "4                             Around the Nation   \n",
       "5                                           Law   \n",
       "6                                         World   \n",
       "7                                         World   \n",
       "8                                         World   \n",
       "9                                          U.S.   \n",
       "10                                         Asia   \n",
       "11                                         Food   \n",
       "12                                         Food   \n",
       "13                                         Food   \n",
       "14                                         Food   \n",
       "15                                         Food   \n",
       "16                                      History   \n",
       "17                                      History   \n",
       "18                                      History   \n",
       "19                                      History   \n",
       "20                            Around the Nation   \n",
       "21                                         Race   \n",
       "22                                         Race   \n",
       "23                                Games & Humor   \n",
       "24                                        World   \n",
       "25     Weekend Edition Sunday for June 19, 2016   \n",
       "26                                        Books   \n",
       "27                                        Books   \n",
       "28     Weekend Edition Sunday for June 19, 2016   \n",
       "29                                        Music   \n",
       "..                                          ...   \n",
       "107                                   Education   \n",
       "108                                  Commentary   \n",
       "109                                  Commentary   \n",
       "110                                  Commentary   \n",
       "111                                     Opinion   \n",
       "112                                     Opinion   \n",
       "113                                     Opinion   \n",
       "114                                        Food   \n",
       "115                                        Food   \n",
       "116                               Games & Humor   \n",
       "117                                 Arts & Life   \n",
       "118  Weekend Edition Saturday for June 18, 2016   \n",
       "119  Weekend Edition Saturday for June 18, 2016   \n",
       "120                                     History   \n",
       "121                               Global Health   \n",
       "122                                    Politics   \n",
       "123                                   Elections   \n",
       "124                                Donald Trump   \n",
       "125                                 Republicans   \n",
       "126                                      Health   \n",
       "127                                    Politics   \n",
       "128                                 Republicans   \n",
       "129                                       World   \n",
       "130                                       World   \n",
       "131                                         Law   \n",
       "132                                         Law   \n",
       "133                               International   \n",
       "134                                     History   \n",
       "135                           Around the Nation   \n",
       "136                                 Arts & Life   \n",
       "\n",
       "                                       target  \n",
       "0                           Around the Nation  \n",
       "1                                        U.S.  \n",
       "2                                        U.S.  \n",
       "3                                         Law  \n",
       "4                                         Law  \n",
       "5                                        U.S.  \n",
       "6                                        U.S.  \n",
       "7                                        Asia  \n",
       "8                                        News  \n",
       "9                                        Asia  \n",
       "10                                       News  \n",
       "11                                    History  \n",
       "12                          Around the Nation  \n",
       "13                                       Race  \n",
       "14                                       U.S.  \n",
       "15                                       News  \n",
       "16                          Around the Nation  \n",
       "17                                       Race  \n",
       "18                                       U.S.  \n",
       "19                                       News  \n",
       "20                                       Race  \n",
       "21                                       U.S.  \n",
       "22                                       News  \n",
       "23   Weekend Edition Sunday for June 19, 2016  \n",
       "24   Weekend Edition Sunday for June 19, 2016  \n",
       "25                                       Asia  \n",
       "26   Weekend Edition Sunday for June 19, 2016  \n",
       "27                                Arts & Life  \n",
       "28                                Arts & Life  \n",
       "29   Weekend Edition Sunday for June 19, 2016  \n",
       "..                                        ...  \n",
       "107                                      News  \n",
       "108                                      Food  \n",
       "109                             Games & Humor  \n",
       "110                               Arts & Life  \n",
       "111                                      Food  \n",
       "112                             Games & Humor  \n",
       "113                               Arts & Life  \n",
       "114                             Games & Humor  \n",
       "115                               Arts & Life  \n",
       "116                                      News  \n",
       "117                                      News  \n",
       "118                                   History  \n",
       "119                                     Books  \n",
       "120                                     Books  \n",
       "121                                     World  \n",
       "122                                 Education  \n",
       "123                                 Education  \n",
       "124                                 Education  \n",
       "125                                 Education  \n",
       "126                                      Food  \n",
       "127                                       Law  \n",
       "128                                       Law  \n",
       "129                                   Opinion  \n",
       "130                                Commentary  \n",
       "131                             International  \n",
       "132                                   History  \n",
       "133                                   History  \n",
       "134                                     World  \n",
       "135                               Arts & Life  \n",
       "136                                      U.S.  \n",
       "\n",
       "[137 rows x 2 columns]"
      ]
     },
     "execution_count": 38,
     "metadata": {},
     "output_type": "execute_result"
    }
   ],
   "source": [
    "df_d3"
   ]
  },
  {
   "cell_type": "code",
   "execution_count": 39,
   "metadata": {
    "collapsed": true
   },
   "outputs": [],
   "source": [
    "df_d3.to_csv('links.csv')"
   ]
  },
  {
   "cell_type": "code",
   "execution_count": 40,
   "metadata": {
    "collapsed": false
   },
   "outputs": [],
   "source": [
    "nodes = pd.DataFrame()"
   ]
  },
  {
   "cell_type": "code",
   "execution_count": 41,
   "metadata": {
    "collapsed": false
   },
   "outputs": [],
   "source": [
    "nodes['node'] = top_30"
   ]
  },
  {
   "cell_type": "code",
   "execution_count": 42,
   "metadata": {
    "collapsed": false
   },
   "outputs": [
    {
     "data": {
      "text/html": [
       "<div>\n",
       "<table border=\"1\" class=\"dataframe\">\n",
       "  <thead>\n",
       "    <tr style=\"text-align: right;\">\n",
       "      <th></th>\n",
       "      <th>node</th>\n",
       "    </tr>\n",
       "  </thead>\n",
       "  <tbody>\n",
       "    <tr>\n",
       "      <th>0</th>\n",
       "      <td>News</td>\n",
       "    </tr>\n",
       "    <tr>\n",
       "      <th>1</th>\n",
       "      <td>U.S.</td>\n",
       "    </tr>\n",
       "    <tr>\n",
       "      <th>2</th>\n",
       "      <td>World</td>\n",
       "    </tr>\n",
       "    <tr>\n",
       "      <th>3</th>\n",
       "      <td>Around the Nation</td>\n",
       "    </tr>\n",
       "    <tr>\n",
       "      <th>4</th>\n",
       "      <td>Health</td>\n",
       "    </tr>\n",
       "    <tr>\n",
       "      <th>5</th>\n",
       "      <td>Politics</td>\n",
       "    </tr>\n",
       "    <tr>\n",
       "      <th>6</th>\n",
       "      <td>Arts &amp; Life</td>\n",
       "    </tr>\n",
       "    <tr>\n",
       "      <th>7</th>\n",
       "      <td>Law</td>\n",
       "    </tr>\n",
       "    <tr>\n",
       "      <th>8</th>\n",
       "      <td>Global Health</td>\n",
       "    </tr>\n",
       "    <tr>\n",
       "      <th>9</th>\n",
       "      <td>Opinion</td>\n",
       "    </tr>\n",
       "    <tr>\n",
       "      <th>10</th>\n",
       "      <td>Commentary</td>\n",
       "    </tr>\n",
       "    <tr>\n",
       "      <th>11</th>\n",
       "      <td>Food</td>\n",
       "    </tr>\n",
       "    <tr>\n",
       "      <th>12</th>\n",
       "      <td>Weekend Edition Sunday for June 19, 2016</td>\n",
       "    </tr>\n",
       "    <tr>\n",
       "      <th>13</th>\n",
       "      <td>Race</td>\n",
       "    </tr>\n",
       "    <tr>\n",
       "      <th>14</th>\n",
       "      <td>Elections</td>\n",
       "    </tr>\n",
       "    <tr>\n",
       "      <th>15</th>\n",
       "      <td>Music</td>\n",
       "    </tr>\n",
       "    <tr>\n",
       "      <th>16</th>\n",
       "      <td>Books</td>\n",
       "    </tr>\n",
       "    <tr>\n",
       "      <th>17</th>\n",
       "      <td>Games &amp; Humor</td>\n",
       "    </tr>\n",
       "    <tr>\n",
       "      <th>18</th>\n",
       "      <td>Book Reviews</td>\n",
       "    </tr>\n",
       "    <tr>\n",
       "      <th>19</th>\n",
       "      <td>Sports</td>\n",
       "    </tr>\n",
       "    <tr>\n",
       "      <th>20</th>\n",
       "      <td>International</td>\n",
       "    </tr>\n",
       "    <tr>\n",
       "      <th>21</th>\n",
       "      <td>Donald Trump</td>\n",
       "    </tr>\n",
       "    <tr>\n",
       "      <th>22</th>\n",
       "      <td>Asia</td>\n",
       "    </tr>\n",
       "    <tr>\n",
       "      <th>23</th>\n",
       "      <td>Weekend Edition Saturday for June 18, 2016</td>\n",
       "    </tr>\n",
       "    <tr>\n",
       "      <th>24</th>\n",
       "      <td>History</td>\n",
       "    </tr>\n",
       "    <tr>\n",
       "      <th>25</th>\n",
       "      <td>Children's Health</td>\n",
       "    </tr>\n",
       "    <tr>\n",
       "      <th>26</th>\n",
       "      <td>Music Interviews</td>\n",
       "    </tr>\n",
       "    <tr>\n",
       "      <th>27</th>\n",
       "      <td>Republicans</td>\n",
       "    </tr>\n",
       "    <tr>\n",
       "      <th>28</th>\n",
       "      <td>Latin America</td>\n",
       "    </tr>\n",
       "    <tr>\n",
       "      <th>29</th>\n",
       "      <td>Education</td>\n",
       "    </tr>\n",
       "  </tbody>\n",
       "</table>\n",
       "</div>"
      ],
      "text/plain": [
       "                                          node\n",
       "0                                         News\n",
       "1                                         U.S.\n",
       "2                                        World\n",
       "3                            Around the Nation\n",
       "4                                       Health\n",
       "5                                     Politics\n",
       "6                                  Arts & Life\n",
       "7                                          Law\n",
       "8                                Global Health\n",
       "9                                      Opinion\n",
       "10                                  Commentary\n",
       "11                                        Food\n",
       "12    Weekend Edition Sunday for June 19, 2016\n",
       "13                                        Race\n",
       "14                                   Elections\n",
       "15                                       Music\n",
       "16                                       Books\n",
       "17                               Games & Humor\n",
       "18                                Book Reviews\n",
       "19                                      Sports\n",
       "20                               International\n",
       "21                                Donald Trump\n",
       "22                                        Asia\n",
       "23  Weekend Edition Saturday for June 18, 2016\n",
       "24                                     History\n",
       "25                           Children's Health\n",
       "26                            Music Interviews\n",
       "27                                 Republicans\n",
       "28                               Latin America\n",
       "29                                   Education"
      ]
     },
     "execution_count": 42,
     "metadata": {},
     "output_type": "execute_result"
    }
   ],
   "source": [
    "nodes"
   ]
  },
  {
   "cell_type": "code",
   "execution_count": 43,
   "metadata": {
    "collapsed": true
   },
   "outputs": [],
   "source": [
    "nodes.to_csv('nodes.csv')"
   ]
  },
  {
   "cell_type": "code",
   "execution_count": null,
   "metadata": {
    "collapsed": true
   },
   "outputs": [],
   "source": []
  }
 ],
 "metadata": {
  "kernelspec": {
   "display_name": "Python 2",
   "language": "python",
   "name": "python2"
  },
  "language_info": {
   "codemirror_mode": {
    "name": "ipython",
    "version": 2
   },
   "file_extension": ".py",
   "mimetype": "text/x-python",
   "name": "python",
   "nbconvert_exporter": "python",
   "pygments_lexer": "ipython2",
   "version": "2.7.11"
  }
 },
 "nbformat": 4,
 "nbformat_minor": 0
}
