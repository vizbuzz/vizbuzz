{
 "cells": [
  {
   "cell_type": "markdown",
   "metadata": {},
   "source": [
    "###Converting data from NPR's API into a Python Pandas Dataframe"
   ]
  },
  {
   "cell_type": "code",
   "execution_count": null,
   "metadata": {
    "collapsed": false
   },
   "outputs": [],
   "source": [
    "from json import loads\n",
    "import pandas as pd"
   ]
  },
  {
   "cell_type": "code",
   "execution_count": null,
   "metadata": {
    "collapsed": false
   },
   "outputs": [],
   "source": [
    "## Load sample json data from NPR's API\n",
    "json_obj = loads(open(\"npr_api_sample.json\").read())"
   ]
  },
  {
   "cell_type": "code",
   "execution_count": null,
   "metadata": {
    "collapsed": false,
    "scrolled": true
   },
   "outputs": [],
   "source": [
    "## Get to know the data\n",
    "for story in json_obj['list']['story']:\n",
    "\n",
    "    print 'ID: ' + story['id']\n",
    "    \n",
    "    print 'TITLE: ' + story['title']['$text']\n",
    "\n",
    "    print 'DATE: ' + story['storyDate']['$text'] + '\\n'\n"
   ]
  },
  {
   "cell_type": "code",
   "execution_count": null,
   "metadata": {
    "collapsed": false
   },
   "outputs": [],
   "source": [
    "## For our visualization, we're interested in the story category tags, which are nested in the json\n",
    "\n",
    "for story in json_obj['list']['story']:\n",
    "    for parent in story['parent']:\n",
    "        print story['id'], parent['title']['$text']"
   ]
  },
  {
   "cell_type": "code",
   "execution_count": null,
   "metadata": {
    "collapsed": false
   },
   "outputs": [],
   "source": [
    "## Build the data frame by creating a list of dictionaries, then converting the list of dictionaries into a data frame\n",
    "\n",
    "##First data frame: one row per distinct story category"
   ]
  },
  {
   "cell_type": "code",
   "execution_count": null,
   "metadata": {
    "collapsed": true
   },
   "outputs": [],
   "source": [
    "## Create an empty list\n",
    "dicts_list = []"
   ]
  },
  {
   "cell_type": "code",
   "execution_count": null,
   "metadata": {
    "collapsed": false
   },
   "outputs": [],
   "source": [
    "## Fill the list with dictionaries -- each dictionary will be a row in our dataframe\n",
    "\n",
    "for story in json_obj['list']['story']:\n",
    "    for parent in story['parent']:\n",
    "        d = {\n",
    "            'id': story['id'],\n",
    "            'title': story['title']['$text'],\n",
    "            'category': parent['title']['$text']    \n",
    "        }\n",
    "        dicts_list.append(d)"
   ]
  },
  {
   "cell_type": "code",
   "execution_count": null,
   "metadata": {
    "collapsed": false
   },
   "outputs": [],
   "source": [
    "## Convert the list of dictionaries into a pandas dataframe\n",
    "\n",
    "df = pd.DataFrame(dicts_list, columns=('id', 'title', 'category'))"
   ]
  },
  {
   "cell_type": "code",
   "execution_count": null,
   "metadata": {
    "collapsed": false
   },
   "outputs": [],
   "source": [
    "df.head(5)"
   ]
  },
  {
   "cell_type": "code",
   "execution_count": null,
   "metadata": {
    "collapsed": false
   },
   "outputs": [],
   "source": [
    "##Second data frame: One row per story, with one column containing a list of all the story's categories\n"
   ]
  },
  {
   "cell_type": "code",
   "execution_count": null,
   "metadata": {
    "collapsed": true
   },
   "outputs": [],
   "source": [
    "## Create an empty list\n",
    "dicts_reshape = []"
   ]
  },
  {
   "cell_type": "code",
   "execution_count": null,
   "metadata": {
    "collapsed": false
   },
   "outputs": [],
   "source": [
    "## Fill the list with dictionaries -- each dictionary will be a row in our dataframe\n",
    "\n",
    "for story in json_obj['list']['story']:\n",
    "    categories_list = []\n",
    "    d = {\n",
    "        'id': story['id'],\n",
    "        'title': story['title']['$text']\n",
    "        }\n",
    "    for parent in story['parent']:\n",
    "        category = parent['title']['$text']\n",
    "        categories_list.append(category)   \n",
    "        d['category'] = categories_list\n",
    "        d['top_category'] = []\n",
    "    dicts_reshape.append(d)"
   ]
  },
  {
   "cell_type": "code",
   "execution_count": null,
   "metadata": {
    "collapsed": false
   },
   "outputs": [],
   "source": [
    "## Convert the list of dictionaries into a pandas dataframe\n",
    "\n",
    "df_reshape = pd.DataFrame(dicts_reshape, columns=('id', 'title', 'category'))"
   ]
  },
  {
   "cell_type": "code",
   "execution_count": null,
   "metadata": {
    "collapsed": false
   },
   "outputs": [],
   "source": [
    "df_reshape.head()"
   ]
  },
  {
   "cell_type": "code",
   "execution_count": null,
   "metadata": {
    "collapsed": true
   },
   "outputs": [],
   "source": []
  }
 ],
 "metadata": {
  "kernelspec": {
   "display_name": "Python 2",
   "language": "python",
   "name": "python2"
  },
  "language_info": {
   "codemirror_mode": {
    "name": "ipython",
    "version": 2
   },
   "file_extension": ".py",
   "mimetype": "text/x-python",
   "name": "python",
   "nbconvert_exporter": "python",
   "pygments_lexer": "ipython2",
   "version": "2.7.11"
  }
 },
 "nbformat": 4,
 "nbformat_minor": 0
}
